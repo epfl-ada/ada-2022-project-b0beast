{
 "cells": [
  {
   "cell_type": "markdown",
   "metadata": {},
   "source": [
    "# Data exploration\n",
    "This notebook contains some tests about data import and some data viz tools"
   ]
  },
  {
   "cell_type": "code",
   "execution_count": null,
   "metadata": {},
   "outputs": [],
   "source": [
    "DATA_FOLDER = './data/'\n",
    "MOVIES_FOLDER = DATA_FOLDER + 'movies_summaries/'\n",
    "PLOT_SUMMARY_FOLDER = DATA_FOLDER + 'corenlp_plot_summaries'\n",
    "\n",
    "REPORT_FOLDER = './gen/reports/'\n",
    "\n",
    "CHARACTERS_FILE = MOVIES_FOLDER + 'character.metadata.tsv'\n",
    "MOVIES_FILE = MOVIES_FOLDER + 'movie.metadata.tsv'\n",
    "PLOT_SUMMARIES_FILE = MOVIES_FOLDER + 'plot_summaries.txt'"
   ]
  },
  {
   "cell_type": "code",
   "execution_count": null,
   "metadata": {},
   "outputs": [],
   "source": [
    "import pandas as pd\n",
    "import numpy as np\n",
    "import matplotlib.pyplot as plt\n",
    "import seaborn as sns\n",
    "\n",
    "from pandas_profiling import ProfileReport\n",
    "%matplotlib inline"
   ]
  },
  {
   "cell_type": "markdown",
   "metadata": {},
   "source": [
    "# Characters"
   ]
  },
  {
   "cell_type": "code",
   "execution_count": null,
   "metadata": {},
   "outputs": [],
   "source": [
    "character_columns = ['wiki_movie_id', 'freebase_movie_id', 'm_release_date', 'name', 'a_dob', 'a_gender', 'a_height', 'a_ethnicity_freebase_id', 'a_name', 'a_age_at_release', 'freebase_char/a_map', 'freebase_char_id', 'freebase_a_id']\n",
    "characters = pd.read_csv(CHARACTERS_FILE, sep='\\t', names=character_columns, index_col=False)\n",
    "\n",
    "print(characters.shape)\n",
    "characters.head()   "
   ]
  },
  {
   "cell_type": "code",
   "execution_count": null,
   "metadata": {},
   "outputs": [],
   "source": [
    "# generate profiling report\n",
    "# profile_characters = ProfileReport(characters, title='Characters report')\n",
    "# profile_characters.to_file(REPORT_FOLDER + \"character_report_0.html\")"
   ]
  },
  {
   "cell_type": "markdown",
   "metadata": {},
   "source": [
    "# Movies"
   ]
  },
  {
   "cell_type": "code",
   "execution_count": null,
   "metadata": {},
   "outputs": [],
   "source": [
    "movies_columns = ['wiki_movie_id', 'freebase_movie_id', 'name', 'release_date', 'box_office_revenue', 'runtime', 'languages', 'countries', 'genres']\n",
    "movies = pd.read_csv(MOVIES_FILE, sep='\\t', names=movies_columns)\n",
    "\n",
    "print(movies.shape)\n",
    "movies.head()"
   ]
  },
  {
   "cell_type": "code",
   "execution_count": null,
   "metadata": {},
   "outputs": [],
   "source": [
    "# generate profiling report\n",
    "# profile_movies = ProfileReport(movies, title='Movies report')\n",
    "# profile_movies.to_file(REPORT_FOLDER + \"movies_report_0.html\")"
   ]
  },
  {
   "cell_type": "code",
   "execution_count": null,
   "metadata": {},
   "outputs": [],
   "source": [
    "# Clean dates\n",
    "# Remember that one movie contains 1010 date. We need to check what to do with it. Movie : Hunting Season, changes by hand at the moment\n",
    "# Note: use .dt.date to recover the date only (not the datetime part)\n",
    "print(\"Number of nan movies release dates: \", movies['release_date'].isna().sum())\n",
    "movies['release_date'] = pd.to_datetime(movies['release_date'], format='%Y-%m-%d', errors='coerce')\n",
    "movies.head()"
   ]
  },
  {
   "cell_type": "code",
   "execution_count": null,
   "metadata": {},
   "outputs": [],
   "source": [
    "print(\"Number of movies with box office revenue indicated: {} ({:.2%})\".format(movies.shape[0] - movies['box_office_revenue'].isna().sum(), (movies.shape[0] - movies['box_office_revenue'].isna().sum())/movies.shape[0]))\n",
    "\n",
    "# keep only movies with box office revenue\n",
    "movies_without_na = movies[movies['box_office_revenue'].notna()]\n",
    "print(movies_without_na.shape)"
   ]
  },
  {
   "cell_type": "code",
   "execution_count": null,
   "metadata": {},
   "outputs": [],
   "source": [
    "movies_by_year = movies.groupby(movies['release_date'].dt.year)['release_date'].count()\n",
    "movies_by_year_without_na = movies_without_na.groupby(movies_without_na['release_date'].dt.year)['release_date'].count()\n",
    "\n",
    "# plot values\n",
    "fig, ax = plt.subplots(1, 2, figsize=(20, 5))\n",
    "ax[0].set_title('Movies by year')\n",
    "ax[0].set_xlabel('Year')\n",
    "ax[0].set_ylabel('Number of movies')\n",
    "ax[0].bar(movies_by_year.index, movies_by_year.values)\n",
    "# ax[0] = plt.bar(x=movies_by_year.index, y=movies_by_year.values, ax=ax[0], color='lightblue')\n",
    "# ax[0].set_xticklabels(ax[0].get_xticklabels(), rotation=90)\n",
    "\n",
    "ax[1].set_title('Movies by year (without NA)')\n",
    "ax[1].set_xlabel('Year')\n",
    "ax[1].set_ylabel('Number of movies')\n",
    "ax[1].bar(movies_by_year_without_na.index, movies_by_year_without_na.values)\n",
    "plt.show()"
   ]
  },
  {
   "cell_type": "code",
   "execution_count": null,
   "metadata": {},
   "outputs": [],
   "source": [
    "## Get box office revenue by year\n",
    "movies = movies_without_na\n",
    "movies['box_office_revenue'] = movies['box_office_revenue'].astype(int)\n"
   ]
  },
  {
   "cell_type": "code",
   "execution_count": null,
   "metadata": {},
   "outputs": [],
   "source": [
    "def sort_by_box_office_revenue(df, k=10):\n",
    "    return df.sort_values(by='box_office_revenue', ascending=False).head(k)\n",
    "\n",
    "movies_by_year = movies.groupby(movies['release_date'].dt.year).apply(sort_by_box_office_revenue)\n",
    "movies_by_year"
   ]
  },
  {
   "cell_type": "code",
   "execution_count": null,
   "metadata": {},
   "outputs": [],
   "source": [
    "# Get all characters of a movie\n",
    "df = pd.merge(left=movies, right=characters, left_on='wiki_movie_id', right_on='wiki_movie_id', how='inner', suffixes=('_m', '_c'))\n",
    "df.head()"
   ]
  },
  {
   "cell_type": "code",
   "execution_count": null,
   "metadata": {},
   "outputs": [],
   "source": []
  },
  {
   "cell_type": "code",
   "execution_count": null,
   "metadata": {},
   "outputs": [],
   "source": [
    "import requests\n",
    "\n",
    "\n",
    "def query_freebase(freebase_id):\n",
    "        query_template = \"https://query.wikidata.org/bigdata/namespace/wdq/sparql\" + \\\n",
    "                \"?format=json&query=PREFIX%20wd%3A%20%3Chttp%3A%2F%2F\" + \\\n",
    "                \"www.wikidata.org%2Fentity%2F%3E%0APREFIX%20wdt%3A%20%3Chttp%3A%2F%2Fwww.wikidata.org%2Fprop%2Fdirect%2F%3E%0APREFIX%20\" + \\\n",
    "                \"wikibase%3A%20%3Chttp%3A%2F%2Fwikiba.se%2Fontology%23%3E%0A%0ASELECT%20%20%3Fs%20%3FsLabel%20%3Fp%20%20%3Fo%20%3FoLabel\" + \\\n",
    "                \"%20WHERE%20%7B%0A%20%3Fs%20wdt%3AP646%20%22\" + \\\n",
    "                \"{}\" + \\\n",
    "                \"%22%20%0A%0A%20%20%20SERVICE%20wikibase%3Alabel%20%7B%0A%20%20%20%20bd%3AserviceParam%20wikibase%3Alanguage%20%22en%22%20.%0A%20%20%20%7D%0A%20%7D\"\n",
    "        \n",
    "        query = query_template.format(freebase_id.replace('/', '%2F'))\n",
    "        return requests.get(query)\n",
    "\n",
    "def get_freebase_value(freebase_id):\n",
    "        response = query_freebase(freebase_id)\n",
    "        if response.status_code == 200:\n",
    "                result = response.json()\n",
    "                return result['results']['bindings'][0]['sLabel']['value']\n",
    "        else:\n",
    "                print()\n",
    "        \n",
    "                \n",
    "response = query_freebase('/m/0181lj')\n",
    "result"
   ]
  },
  {
   "cell_type": "code",
   "execution_count": null,
   "metadata": {},
   "outputs": [],
   "source": [
    "print(result['results']['bindings'][0]['sLabel']['value'])"
   ]
  }
 ],
 "metadata": {
  "kernelspec": {
   "display_name": "Python 3.9.13 ('ada')",
   "language": "python",
   "name": "python3"
  },
  "language_info": {
   "codemirror_mode": {
    "name": "ipython",
    "version": 3
   },
   "file_extension": ".py",
   "mimetype": "text/x-python",
   "name": "python",
   "nbconvert_exporter": "python",
   "pygments_lexer": "ipython3",
   "version": "3.9.13"
  },
  "orig_nbformat": 4,
  "vscode": {
   "interpreter": {
    "hash": "22572adde2579bba0219ab13a595c247a757bc643a076c81b23732705e9bf7aa"
   }
  }
 },
 "nbformat": 4,
 "nbformat_minor": 2
}
