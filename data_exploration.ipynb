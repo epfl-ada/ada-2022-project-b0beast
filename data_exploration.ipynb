{
 "cells": [
  {
   "cell_type": "markdown",
   "metadata": {},
   "source": [
    "# Data exploration\n",
    "This notebook contains some tests about data import and some data viz tools"
   ]
  },
  {
   "cell_type": "code",
   "execution_count": 1,
   "metadata": {},
   "outputs": [],
   "source": [
    "DATA_FOLDER = './data/'\n",
    "MOVIES_FOLDER = DATA_FOLDER + 'movies_summaries/'\n",
    "PLOT_SUMMARY_FOLDER = DATA_FOLDER + 'corenlp_plot_summaries'\n",
    "\n",
    "REPORT_FOLDER = './gen/reports/'\n",
    "ETHNICITY_FILE = './gen/ethnicities.tsv'\n",
    "\n",
    "CHARACTERS_FILE = MOVIES_FOLDER + 'character.metadata.tsv'\n",
    "MOVIES_FILE = MOVIES_FOLDER + 'movie.metadata.tsv'\n",
    "PLOT_SUMMARIES_FILE = MOVIES_FOLDER + 'plot_summaries.txt'\n",
    "TROPES_FILE = MOVIES_FOLDER + 'tvtropes.clusters.txt'"
   ]
  },
  {
   "cell_type": "code",
   "execution_count": 2,
   "metadata": {},
   "outputs": [],
   "source": [
    "import pandas as pd\n",
    "import numpy as np\n",
    "import matplotlib.pyplot as plt\n",
    "import seaborn as sns\n",
    "import ast\n",
    "\n",
    "from pandas_profiling import ProfileReport\n",
    "%matplotlib inline"
   ]
  },
  {
   "cell_type": "markdown",
   "metadata": {},
   "source": [
    "# Characters"
   ]
  },
  {
   "cell_type": "code",
   "execution_count": null,
   "metadata": {},
   "outputs": [],
   "source": [
    "character_columns = ['wiki_movie_id', 'freebase_movie_id', 'm_release_date', 'name', 'a_dob', 'a_gender', 'a_height', 'a_ethnicity_freebase_id', 'a_name', 'a_age_at_release', 'freebase_char/a_map', 'freebase_char_id', 'freebase_a_id']\n",
    "characters = pd.read_csv(CHARACTERS_FILE, sep='\\t', names=character_columns, index_col=False)\n",
    "\n",
    "characters['m_release_date'] = pd.to_datetime(characters['m_release_date'], format='%Y-%m-%d', errors='coerce')\n",
    "\n",
    "print(characters.shape)\n",
    "characters.head()"
   ]
  },
  {
   "cell_type": "code",
   "execution_count": null,
   "metadata": {},
   "outputs": [],
   "source": [
    "# generate profiling report\n",
    "# profile_characters = ProfileReport(characters, title='Characters report')\n",
    "# profile_characters.to_file(REPORT_FOLDER + \"character_report_0.html\")"
   ]
  },
  {
   "cell_type": "markdown",
   "metadata": {},
   "source": [
    "# Import ethnicities"
   ]
  },
  {
   "cell_type": "code",
   "execution_count": null,
   "metadata": {},
   "outputs": [],
   "source": [
    "ethnicities = pd.read_csv(ETHNICITY_FILE, sep='\\t', header=None, names=['freebase_ethnicity_id', 'ethnicity_name'])\n",
    "ethnicities"
   ]
  },
  {
   "cell_type": "code",
   "execution_count": null,
   "metadata": {},
   "outputs": [],
   "source": [
    "characters = pd.merge(left=characters, right=ethnicities, left_on='a_ethnicity_freebase_id', right_on='freebase_ethnicity_id', how='left')\n",
    "characters = characters.drop(['freebase_ethnicity_id'], axis=1)\n",
    "characters = characters.rename({'a_ethnicity_freebase_id': 'freebase_ethnicity_id'})\n",
    "characters"
   ]
  },
  {
   "cell_type": "markdown",
   "metadata": {},
   "source": [
    "# Import tvtropes\n",
    "Import tv tropes to assign a trope to characters"
   ]
  },
  {
   "cell_type": "code",
   "execution_count": null,
   "metadata": {},
   "outputs": [],
   "source": [
    "tropes = pd.read_csv(TROPES_FILE, sep='\\t', header=None, names=['trope', 'props'])\n",
    "tropes"
   ]
  },
  {
   "cell_type": "code",
   "execution_count": null,
   "metadata": {},
   "outputs": [],
   "source": [
    "def split_tropes_props(x):\n",
    "    res = {'trope': x['trope']}\n",
    "    res.update(ast.literal_eval(x['props']))\n",
    "    return res\n",
    "\n",
    "tropes = tropes.apply(split_tropes_props, axis=1, result_type='expand')\n",
    "tropes = tropes.rename(columns={'id': 'freebase_char/a_map'})\n",
    "tropes"
   ]
  },
  {
   "cell_type": "code",
   "execution_count": null,
   "metadata": {},
   "outputs": [],
   "source": [
    "# problem: we only have 501 characters tropes\n",
    "characters_tropes = pd.merge(left=characters, right=tropes, on='freebase_char/a_map', how='inner')\n",
    "characters_tropes"
   ]
  },
  {
   "cell_type": "markdown",
   "metadata": {},
   "source": [
    "# Movies"
   ]
  },
  {
   "cell_type": "code",
   "execution_count": null,
   "metadata": {},
   "outputs": [],
   "source": [
    "movies_columns = ['wiki_movie_id', 'freebase_movie_id', 'name', 'release_date', 'box_office_revenue', 'runtime', 'languages', 'countries', 'genres']\n",
    "movies = pd.read_csv(MOVIES_FILE, sep='\\t', names=movies_columns)\n",
    "\n",
    "print(movies.shape)\n",
    "movies.head()"
   ]
  },
  {
   "cell_type": "code",
   "execution_count": null,
   "metadata": {},
   "outputs": [],
   "source": [
    "# generate profiling report\n",
    "# profile_movies = ProfileReport(movies, title='Movies report')\n",
    "# profile_movies.to_file(REPORT_FOLDER + \"movies_report_0.html\")"
   ]
  },
  {
   "cell_type": "code",
   "execution_count": null,
   "metadata": {},
   "outputs": [],
   "source": [
    "# Clean dates\n",
    "# Remember that one movie contains 1010 date. We need to check what to do with it. Movie : Hunting Season, changes by hand at the moment\n",
    "# Note: use .dt.date to recover the date only (not the datetime part)\n",
    "print(\"Number of nan movies release dates: \", movies['release_date'].isna().sum())\n",
    "movies['release_date'] = pd.to_datetime(movies['release_date'], format='%Y-%m-%d', errors='coerce')\n",
    "movies.head()"
   ]
  },
  {
   "cell_type": "code",
   "execution_count": null,
   "metadata": {},
   "outputs": [],
   "source": [
    "print(\"Number of movies with box office revenue indicated: {} ({:.2%})\".format(movies.shape[0] - movies['box_office_revenue'].isna().sum(), (movies.shape[0] - movies['box_office_revenue'].isna().sum())/movies.shape[0]))\n",
    "\n",
    "# keep only movies with box office revenue\n",
    "movies_without_na = movies[movies['box_office_revenue'].notna()]\n",
    "print(movies_without_na.shape)"
   ]
  },
  {
   "cell_type": "code",
   "execution_count": null,
   "metadata": {},
   "outputs": [],
   "source": [
    "movies_by_year = movies.groupby(movies['release_date'].dt.year)['release_date'].count()\n",
    "movies_by_year_without_na = movies_without_na.groupby(movies_without_na['release_date'].dt.year)['release_date'].count()\n",
    "\n",
    "# plot values\n",
    "fig, ax = plt.subplots(1, 2, figsize=(20, 5))\n",
    "ax[0].set_title('Movies by year')\n",
    "ax[0].set_xlabel('Year')\n",
    "ax[0].set_ylabel('Number of movies')\n",
    "ax[0].bar(movies_by_year.index, movies_by_year.values)\n",
    "# ax[0] = plt.bar(x=movies_by_year.index, y=movies_by_year.values, ax=ax[0], color='lightblue')\n",
    "# ax[0].set_xticklabels(ax[0].get_xticklabels(), rotation=90)\n",
    "\n",
    "ax[1].set_title('Movies by year (without NA)')\n",
    "ax[1].set_xlabel('Year')\n",
    "ax[1].set_ylabel('Number of movies')\n",
    "ax[1].bar(movies_by_year_without_na.index, movies_by_year_without_na.values)\n",
    "plt.show()"
   ]
  },
  {
   "cell_type": "code",
   "execution_count": null,
   "metadata": {},
   "outputs": [],
   "source": [
    "# Get box office revenue by year\n",
    "movies = movies_without_na\n",
    "movies['box_office_revenue'] = movies['box_office_revenue'].astype(int)"
   ]
  },
  {
   "cell_type": "code",
   "execution_count": null,
   "metadata": {},
   "outputs": [],
   "source": [
    "def sort_by_box_office_revenue(df, k=10):\n",
    "    return df.sort_values(by='box_office_revenue', ascending=False).head(k)\n",
    "\n",
    "movies_by_year = movies.groupby(movies['release_date'].dt.year).apply(sort_by_box_office_revenue)\n",
    "movies_by_year"
   ]
  },
  {
   "cell_type": "markdown",
   "metadata": {},
   "source": [
    "# Import summaries"
   ]
  },
  {
   "cell_type": "code",
   "execution_count": null,
   "metadata": {},
   "outputs": [],
   "source": [
    "summaries = pd.read_csv(PLOT_SUMMARIES_FILE, sep='\\t', index_col=0, names=['plot'])\n",
    "summaries.index.name = 'wiki_movie_id'\n",
    "summaries.head()"
   ]
  },
  {
   "cell_type": "markdown",
   "metadata": {},
   "source": [
    "# Merge dataframes"
   ]
  },
  {
   "cell_type": "code",
   "execution_count": null,
   "metadata": {},
   "outputs": [],
   "source": [
    "# Movies and characters\n",
    "# Here, we do a left join in order to keep all characters\n",
    "# Note that we remove the release date field from the movie table and not from the character table, since it happens that characters have this info but we don't have any other info about the movie\n",
    "df = pd.merge(left=characters, right=movies, on='wiki_movie_id', how='left', suffixes=('_c', '_m'))\n",
    "duplicate_columns = ['freebase_movie_id_c', 'release_date']\n",
    "df = df.drop(duplicate_columns, axis=1)\n",
    "df = df.rename(columns={'freebase_movie_id_m': 'freebase_movie_id', 'name_c': 'char_name', 'name_m': 'movie_name', 'ethnicity_name': 'a_ethnicity', 'm_release_date': 'release_date'})\n",
    "\n",
    "# Merge movies, characters and summaries\n",
    "# Here, we do do a left join too, because we may want to have info relating the plots and the character, even without having info on the movie\n",
    "# However, if other information are required, it could be better to join movies and summaries before merging with characters, in order to select only plots for which we have movies info\n",
    "df = pd.merge(left=df, right=summaries, on='wiki_movie_id', how='left')"
   ]
  },
  {
   "cell_type": "code",
   "execution_count": null,
   "metadata": {},
   "outputs": [],
   "source": [
    "# Clean features by removing freebase id if they're not useful\n",
    "def extract_feature(x):\n",
    "    if x is np.nan:\n",
    "        return np.nan\n",
    "    return ', '.join(ast.literal_eval(x).values())\n",
    "\n",
    "df['genres'] = df['genres'].apply(extract_feature)\n",
    "df['languages'] = df['languages'].apply(extract_feature)\n",
    "df['countries'] = df['countries'].apply(extract_feature)\n",
    "\n",
    "# change order of columns\n",
    "df = df[['wiki_movie_id','freebase_movie_id','movie_name','release_date','box_office_revenue','runtime','genres','languages','countries','plot','char_name','a_name','a_gender','a_ethnicity','a_dob','a_age_at_release','a_height','freebase_char/a_map','freebase_char_id','freebase_a_id','a_ethnicity_freebase_id']]\n",
    "\n",
    "# print all columns and more rows\n",
    "pd.set_option('display.max_columns', None)\n",
    "df"
   ]
  },
  {
   "cell_type": "markdown",
   "metadata": {},
   "source": [
    "## Display top 10 ethnicities by decade"
   ]
  },
  {
   "cell_type": "code",
   "execution_count": null,
   "metadata": {},
   "outputs": [],
   "source": [
    "# plot the number of characters of each ethnicity\n",
    "ethnicity_count = df['a_ethnicity'].value_counts()\n",
    "ethnicity_count = ethnicity_count[ethnicity_count > 100]\n",
    "\n",
    "fig, ax = plt.subplots(figsize=(20, 5))\n",
    "plt.title('Number of characters by ethnicity') \n",
    "sns.barplot(x=ethnicity_count.index, y=ethnicity_count, color='lightblue', ax=ax)\n",
    "# sns.countplot(x=ethnicity_count, color='lightblue', ax=ax)\n",
    "ax.set_xlabel('Ethnicity')\n",
    "plt.xticks(rotation=90)\n",
    "plt.grid(axis='y') #{'major', 'minor', 'both'}\n",
    "plt.show()"
   ]
  },
  {
   "cell_type": "code",
   "execution_count": null,
   "metadata": {},
   "outputs": [],
   "source": [
    "# count instances of ethnicities for each year\n",
    "df1 = characters[~characters['ethnicity_name'].isna()]\n",
    "\n",
    "# from https://stackoverflow.com/questions/17764619/pandas-dataframe-group-year-index-by-decade\n",
    "ethnicity_count = df1.groupby([df1['m_release_date'].dt.year // 10 * 10, df1['ethnicity_name']]).count()[['wiki_movie_id']]\n",
    "# gen a \"pretty\" and usable dataset\n",
    "ethnicity_count = ethnicity_count.rename(columns={'wiki_movie_id': 'count'})\n",
    "ethnicity_count = ethnicity_count.reset_index() # level=1\n",
    "ethnicity_count = ethnicity_count.rename(columns={'m_release_date': 'm_release_decade'})\n",
    "ethnicity_count['m_release_decade'] = ethnicity_count['m_release_decade'].astype(int)\n",
    "\n",
    "# get top k ethnicites for each decade\n",
    "top_k = 10\n",
    "decades = ethnicity_count['m_release_decade'].unique()\n",
    "\n",
    "fig, ax = plt.subplots(2, 6, figsize=(20, 10), sharey=True)\n",
    "ax = ax.flatten()\n",
    "colors = {}\n",
    "\n",
    "for i, decade in enumerate(decades[1:]): # TODO the 1890 movies are not displayed\n",
    "    # get top k ethnicites\n",
    "    df_top_k = ethnicity_count[ethnicity_count['m_release_decade'] == decade].sort_values(by='count', ascending=False).head(top_k)\n",
    "\n",
    "    # percentage of the top k\n",
    "    total = df_top_k['count'].sum()\n",
    "    df_top_k['percentage'] = df_top_k['count'].apply(lambda x: x / total * 100)\n",
    "    \n",
    "    for ethnicity in df_top_k['ethnicity_name'].values:\n",
    "        if ethnicity not in colors:\n",
    "            colors[ethnicity] = sns.color_palette(n_colors=40)[len(colors)-1]\n",
    "\n",
    "    # plot distribution\n",
    "    sns.barplot(x=df_top_k['ethnicity_name'], y=df_top_k['percentage'], ax=ax[i], palette=[colors[ethnicity] for ethnicity in df_top_k['ethnicity_name'].values])\n",
    "\n",
    "    ax[i].set_title('{}s'.format(int(decade)))\n",
    "    ax[i].set_xlabel('Ethnicity')\n",
    "    ax[i].set_xlabel('Percentage')\n",
    "\n",
    "    # pretty label display\n",
    "    # patches = [matplotlib.patches.Patch(color=sns.color_palette()[j], label=t) for j,t in enumerate(t.get_text() for t in ax[i].get_xticklabels())]\n",
    "    # ax[i].legend(handles=patches, loc=\"upper right\") \n",
    "\n",
    "    # before legend\n",
    "    ax[i].set_xticklabels(ax[i].get_xticklabels(), rotation=90) \n",
    "\n",
    "plt.title(\"Ethnicity representation in movies\")\n",
    "plt.tight_layout()\n",
    "plt.show()"
   ]
  },
  {
   "cell_type": "code",
   "execution_count": null,
   "metadata": {},
   "outputs": [],
   "source": [
    "df.head()"
   ]
  },
  {
   "cell_type": "markdown",
   "metadata": {},
   "source": [
    "# Men/women ratio analysis"
   ]
  },
  {
   "cell_type": "code",
   "execution_count": null,
   "metadata": {},
   "outputs": [],
   "source": [
    "# At the moment, set the ratio to one if the denominator is zero\n",
    "def compute_men_women_ratio(x):\n",
    "    genders = x['a_gender']\n",
    "    nb_actors = x['a_name'].count()\n",
    "    nb_male = genders[genders == 'M'].count()\n",
    "    nb_female = genders[genders == 'F'].count()\n",
    "    nb_nan_gender = genders.isna().sum()\n",
    "\n",
    "    nb_known_gender = nb_known_gender=nb_male+nb_female # TODO: if we add the NAN, then change the current line by: nb_known_gender=nb_actors\n",
    "    m_f_ratio = nb_male / nb_female if nb_female > 0 else 1 if nb_male > 0 else 0\n",
    "    m_ratio = nb_male / nb_known_gender if nb_known_gender > 0 else 0\n",
    "    f_ratio = nb_female / nb_known_gender  if nb_known_gender > 0 else 0\n",
    "    nan_ratio = nb_nan_gender / x.shape[0]\n",
    "\n",
    "    return pd.Series(index=['nb_actors', 'nb_men', 'nb_female', 'nb_nan_gender', 'm_ratio', 'f_ratio', 'M_F_ratio', 'nan_ratio'], data=[nb_actors, nb_male, nb_female, nb_nan_gender, m_ratio, f_ratio, m_f_ratio, nan_ratio])\n",
    "\n",
    "\n",
    "df_gender = df.groupby('wiki_movie_id').apply(compute_men_women_ratio)\n",
    "\n",
    "df_gender['nb_actors'] = df_gender['nb_actors'].astype(int)\n",
    "df_gender['nb_men'] = df_gender['nb_men'].astype(int)\n",
    "df_gender['nb_female'] = df_gender['nb_female'].astype(int)\n",
    "df_gender['nb_nan_gender'] = df_gender['nb_nan_gender'].astype(int)\n",
    "df_gender"
   ]
  },
  {
   "cell_type": "code",
   "execution_count": null,
   "metadata": {},
   "outputs": [],
   "source": [
    "df_gender['total'] = df_gender['m_ratio'].add(df_gender['f_ratio']).add(df_gender['nan_ratio'])\n",
    "df_gender"
   ]
  },
  {
   "cell_type": "code",
   "execution_count": null,
   "metadata": {},
   "outputs": [],
   "source": [
    "# get the info of only one movie\n",
    "df_gender = pd.merge(left=df[['wiki_movie_id', 'release_date']], right=df_gender, how='inner', left_on='wiki_movie_id', right_index=True)\n",
    "df_gender = df_gender.drop_duplicates('wiki_movie_id')\n",
    "df_gender['m_release_decade'] = df_gender['release_date'].dt.year // 10 * 10\n",
    "df_gender\n",
    "# df2['m_release_decade'].isna().sum()"
   ]
  },
  {
   "cell_type": "code",
   "execution_count": null,
   "metadata": {},
   "outputs": [],
   "source": [
    "# ratio over the whole dataset\n",
    "print(\"Male / Female ratio over the whole dataset:\", df[df['a_gender'] == 'M'].shape[0] / df[df['a_gender'] == 'F'].shape[0])\n",
    "print(\"Nan ratio over the whole dataset:\", df[df['a_gender'].isna()].shape[0] / df.shape[0])"
   ]
  },
  {
   "cell_type": "code",
   "execution_count": null,
   "metadata": {},
   "outputs": [],
   "source": [
    "# mean gender ratio with matching paires\n",
    "print(\"Male / Female ratio: :\", df_gender['M_F_ratio'].mean())\n",
    "print(\"Nan ratio: over bthe whole dataset:\", df_gender['nan_ratio'].mean())"
   ]
  },
  {
   "cell_type": "code",
   "execution_count": null,
   "metadata": {},
   "outputs": [],
   "source": [
    "decades = np.sort(df_gender['m_release_decade'].unique())\n",
    "decades = decades[~np.isnan(decades)]\n",
    "\n",
    "fig, ax = plt.subplots(2, 7, figsize=(12, 7), sharey=True, sharex=True)\n",
    "ax = ax.flatten()\n",
    "\n",
    "for i, decade in enumerate(decades):\n",
    "    df_decade = df_gender[df_gender['m_release_decade'] == decade]\n",
    "    \n",
    "    x = ['M', 'F', 'Nan']\n",
    "    y = [df_decade['m_ratio'].mean()*100, df_decade['f_ratio'].mean()*100, df_decade['nan_ratio'].mean()*100]\n",
    "\n",
    "    # plot distribution\n",
    "    sns.barplot(x=x, y=y, ax=ax[i])\n",
    "\n",
    "    ax[i].set_title('{}s'.format(int(decade)))\n",
    "\n",
    "    if i/7 >= 1:\n",
    "        ax[i].set_xlabel('Gender')\n",
    "\n",
    "    if i%7 == 0:\n",
    "        ax[i].set_ylabel('Percentage')\n",
    "\n",
    "    # before legend\n",
    "    ax[i].set_xticklabels(ax[i].get_xticklabels(), rotation=90) \n",
    "\n",
    "plt.tight_layout()\n",
    "plt.show()\n",
    "\n",
    "# TODO add confidence intervals"
   ]
  },
  {
   "cell_type": "code",
   "execution_count": null,
   "metadata": {},
   "outputs": [],
   "source": [
    "decades = np.sort(df_gender['m_release_decade'].unique())\n",
    "decades = decades[~np.isnan(decades)]\n",
    "\n",
    "fig, ax = plt.subplots(2, 7, figsize=(10, 7))\n",
    "ax = ax.flatten()\n",
    "\n",
    "for i, decade in enumerate(decades):\n",
    "    df_decade = df_gender[df_gender['m_release_decade'] == decade]\n",
    "    \n",
    "    x = ['M', 'F', 'Nan']\n",
    "    y = [df_decade['m_ratio'].mean()*100, df_decade['f_ratio'].mean()*100, df_decade['nan_ratio'].mean()*100]\n",
    "\n",
    "    # plot distribution\n",
    "    ax[i].pie(y, labels=x, autopct='%.0f%%')\n",
    "\n",
    "    ax[i].set_title('{}s'.format(int(decade)))\n",
    "\n",
    "    if i/7 >= 1:\n",
    "        ax[i].set_xlabel('Gender')\n",
    "\n",
    "    if i%7 == 0:\n",
    "        ax[i].set_ylabel('Percentage')\n",
    "\n",
    "    # before legend\n",
    "    ax[i].set_xticklabels(ax[i].get_xticklabels(), rotation=90) \n",
    "\n",
    "plt.tight_layout()\n",
    "plt.show()"
   ]
  },
  {
   "cell_type": "code",
   "execution_count": null,
   "metadata": {},
   "outputs": [],
   "source": [
    "# TODO improve how decades are treated\n",
    "decades = np.sort(df_gender['m_release_decade'].unique())\n",
    "decades = decades[~np.isnan(decades)]\n",
    "\n",
    "gender_dict = {}\n",
    "for i, decade in enumerate(decades):\n",
    "    df_decade = df_gender[df_gender['m_release_decade'] == decade]\n",
    "    \n",
    "    gender_dict[decade] = {\n",
    "        'M': df_decade['m_ratio'].mean()*100,\n",
    "        'F': df_decade['f_ratio'].mean()*100\n",
    "        # 'Nan': df_decade['nan_ratio'].mean()*100\n",
    "        }\n",
    "\n",
    "gender_ratio_df = pd.DataFrame(gender_dict)\n",
    "gender_ratio_df.columns = ['{}s'.format(int(col)) for col in gender_ratio_df.columns]\n",
    "gender_ratio_df = gender_ratio_df.T\n",
    "gender_ratio_df"
   ]
  },
  {
   "cell_type": "code",
   "execution_count": null,
   "metadata": {},
   "outputs": [],
   "source": [
    "# pivot table to have one row per gender\n",
    "plot_df = gender_ratio_df.reset_index()\n",
    "plot_df = plot_df.rename(columns={'index': 'decade'})\n",
    "plot_df = plot_df.melt(id_vars='decade', value_vars=['M', 'F'])\n",
    "plot_df = plot_df.rename(columns={'variable': 'gender', 'value': 'ratio'})\n",
    "\n",
    "# tmp_df\n",
    "sns.barplot(data=plot_df, x='decade', y='ratio', hue='gender')\n",
    "plt.title('Gender ratio evolution over the decades')\n",
    "plt.xticks(rotation=45)\n",
    "plt.tight_layout()\n",
    "plt.legend(bbox_to_anchor=(1.05, 1), loc=2, borderaxespad=0.)\n",
    "plt.show()"
   ]
  },
  {
   "cell_type": "markdown",
   "metadata": {},
   "source": [
    "# Age analysis"
   ]
  },
  {
   "cell_type": "code",
   "execution_count": null,
   "metadata": {},
   "outputs": [],
   "source": [
    "df2 = df.copy()\n",
    "# here, we suppose that negative ages are just a mistake\n",
    "df2['a_age_at_release'] = df2['a_age_at_release'].abs()\n",
    "df2['age_decade_at_release'] = df2['a_age_at_release'] // 10 * 10\n",
    "df2['m_release_decade'] = df2['release_date'].dt.year // 10 * 10\n",
    "# df['a_age_at_release'].isna().sum()\n",
    "# df['a_dob'].isna().sum() # TODO: more rows have dob than age at release. We can mabye compute age at release by ourselves\n",
    "\n",
    "# age decades\n",
    "age_decades = df2['age_decade_at_release'].value_counts().drop([960.0, 7890.0, 930.0]).index\n",
    "age_decades = np.sort(age_decades)\n",
    "age_decades"
   ]
  },
  {
   "cell_type": "code",
   "execution_count": null,
   "metadata": {},
   "outputs": [],
   "source": [
    "# Here, we put the 70s+ together\n",
    "df2['age_decade_at_release'] = df2['age_decade_at_release'].replace(to_replace=[80.,  90., 100.], value=70.)\n",
    "age_decades = age_decades[:-3]"
   ]
  },
  {
   "cell_type": "code",
   "execution_count": null,
   "metadata": {},
   "outputs": [],
   "source": [
    "decades = np.sort(df2['m_release_decade'].unique())\n",
    "decades = decades[~np.isnan(decades)]\n",
    "\n",
    "fig, ax = plt.subplots(2, 6, figsize=(12, 7), sharey=True, sharex=True)\n",
    "ax = ax.flatten()\n",
    "# colors = {}\n",
    "# for i, age_decade in enumerate(age_decades):\n",
    "#     colors[age_decade] = sns.color_palette(n_colors=age_decades.shape[0])[i]\n",
    "\n",
    "for i, decade in enumerate(decades[3:]): # TODO 1880 and 1890 and 1900 have been removed because they contain almost no data\n",
    "    # get top k ethnicites\n",
    "    df_decade = df2[df2['m_release_decade'] == decade]\n",
    "    df_decade = df_decade[~df_decade['age_decade_at_release'].isna()]\n",
    "\n",
    "    x = []\n",
    "    y = []\n",
    "    for age_decade in age_decades:\n",
    "        if age_decade == 70:\n",
    "            x.append('70+')\n",
    "        else:\n",
    "            x.append('{}s'.format(int(age_decade)))\n",
    "        y.append(df_decade[df_decade['age_decade_at_release'] == age_decade].shape[0] / df_decade.shape[0] * 100)\n",
    "\n",
    "    # plot distribution\n",
    "    sns.barplot(x=x, y=y, ax=ax[i], palette='tab10')\n",
    "\n",
    "    ax[i].set_title('{}s'.format(int(decade)))\n",
    "\n",
    "    if i/7 >= 1:\n",
    "        ax[i].set_xlabel('Age decade')\n",
    "\n",
    "    if i%7 == 0:\n",
    "        ax[i].set_ylabel('Percentage')\n",
    "\n",
    "    # before legend\n",
    "    ax[i].set_xticklabels(ax[i].get_xticklabels(), rotation=90) \n",
    "\n",
    "plt.tight_layout()\n",
    "plt.show()\n",
    "\n",
    "# TODO add confidence intervals"
   ]
  },
  {
   "cell_type": "code",
   "execution_count": null,
   "metadata": {},
   "outputs": [],
   "source": [
    "age_decades_dict = {}\n",
    "\n",
    "for i, decade in enumerate(decades[3:]): # TODO 1880 and 1890 and 1900 have been removed because they contain almost no data\n",
    "    # get top k ethnicites\n",
    "    df_decade = df2[df2['m_release_decade'] == decade]\n",
    "    df_decade = df_decade[~df_decade['age_decade_at_release'].isna()]\n",
    "    \n",
    "    row = {}\n",
    "    for age_decade in age_decades:\n",
    "        if age_decade == 70:\n",
    "            col_name = '70s+'\n",
    "        else:\n",
    "            col_name = '{}s'.format(int(age_decade))\n",
    "\n",
    "        if col_name in row:\n",
    "            row[col_name].update(df_decade[df_decade['age_decade_at_release'] == age_decade].shape[0] / df_decade.shape[0] * 100)\n",
    "        else:\n",
    "            row[col_name] =  df_decade[df_decade['age_decade_at_release'] == age_decade].shape[0] / df_decade.shape[0] * 100\n",
    "\n",
    "    age_decades_dict[decade] = row"
   ]
  },
  {
   "cell_type": "code",
   "execution_count": null,
   "metadata": {},
   "outputs": [],
   "source": [
    "# pd.DataFrame(index='decage', columns=['{}s'.format(age_decade) for age_decade in age_decades])\n",
    "age_decades_df = pd.DataFrame(age_decades_dict)\n",
    "age_decades_df.columns = ['{}s'.format(int(col)) for col in age_decades_df.columns]\n",
    "age_decades_df = age_decades_df.T\n",
    "age_decades_df"
   ]
  },
  {
   "cell_type": "code",
   "execution_count": null,
   "metadata": {},
   "outputs": [],
   "source": [
    "# Potentially interesting: area, bar, pie (but for each of them independently)\n",
    "# age_decades_df.plot(kind='bar', stacked=True)\n",
    "age_decades_df.plot(kind='bar', stacked=True)\n",
    "\n",
    "plt.xticks(rotation=90)\n",
    "plt.xlabel('Decade')\n",
    "plt.ylabel('Percentage')\n",
    "plt.title('Actor age distribution over the decades')\n",
    "plt.legend(bbox_to_anchor=(1.05, 1), loc=2, borderaxespad=0.)\n",
    "plt.xticks(rotation=45)\n",
    "plt.show()\n",
    "# sns.barplot(stacked=True)\n",
    "\n",
    "# as the times advance, we can see that we have more and more older actors.\n",
    "# Maybe this can be due to the ratio of good actors which continue to perform after a long time. This can be due to the life expectancy increase too\n",
    "# Other ideas ?\n",
    "# It can be good to do that too for the ethnicities. For the gender, it can be better to use an area plot"
   ]
  },
  {
   "cell_type": "code",
   "execution_count": null,
   "metadata": {},
   "outputs": [],
   "source": []
  },
  {
   "cell_type": "code",
   "execution_count": null,
   "metadata": {},
   "outputs": [],
   "source": []
  }
 ],
 "metadata": {
  "kernelspec": {
   "display_name": "Python 3.9.13 ('ada')",
   "language": "python",
   "name": "python3"
  },
  "language_info": {
   "codemirror_mode": {
    "name": "ipython",
    "version": 3
   },
   "file_extension": ".py",
   "mimetype": "text/x-python",
   "name": "python",
   "nbconvert_exporter": "python",
   "pygments_lexer": "ipython3",
   "version": "3.9.13"
  },
  "orig_nbformat": 4,
  "vscode": {
   "interpreter": {
    "hash": "22572adde2579bba0219ab13a595c247a757bc643a076c81b23732705e9bf7aa"
   }
  }
 },
 "nbformat": 4,
 "nbformat_minor": 2
}
