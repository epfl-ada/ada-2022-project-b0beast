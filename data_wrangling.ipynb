{
 "cells": [
  {
   "cell_type": "markdown",
   "metadata": {},
   "source": [
    "# Data wrangling\n",
    "This notebooks is used to import and clean the datasets"
   ]
  },
  {
   "cell_type": "code",
   "execution_count": null,
   "metadata": {},
   "outputs": [
    {
     "ename": "",
     "evalue": "",
     "output_type": "error",
     "traceback": [
      "\u001b[1;31mRunning cells with 'ada' requires ipykernel package.\n",
      "\u001b[1;31mRun the following command to install 'ipykernel' into the Python environment. \n",
      "\u001b[1;31mCommand: 'conda install -n ada ipykernel --update-deps --force-reinstall'"
     ]
    }
   ],
   "source": [
    "DATA_FOLDER = './data/'\n",
    "MOVIES_FOLDER = DATA_FOLDER + 'movies_summaries/'\n",
    "PLOT_SUMMARY_FOLDER = DATA_FOLDER + 'corenlp_plot_summaries'\n",
    "KAGGLE_FOLDER = DATA_FOLDER + 'kaggle/'\n",
    "\n",
    "REPORT_FOLDER = './gen/reports/'\n",
    "ETHNICITY_FILE = './gen/ethnicities.tsv'\n",
    "\n",
    "CHARACTERS_FILE = MOVIES_FOLDER + 'character.metadata.tsv'\n",
    "MOVIES_FILE = MOVIES_FOLDER + 'movie.metadata.tsv'\n",
    "PLOT_SUMMARIES_FILE = MOVIES_FOLDER + 'plot_summaries.txt'\n",
    "TROPES_FILE = MOVIES_FOLDER + 'tvtropes.clusters.txt'\n",
    "KAGGLE_FILE = KAGGLE_FOLDER + 'movies_metadata.csv'"
   ]
  },
  {
   "cell_type": "code",
   "execution_count": null,
   "metadata": {},
   "outputs": [
    {
     "ename": "",
     "evalue": "",
     "output_type": "error",
     "traceback": [
      "\u001b[1;31mRunning cells with 'ada' requires ipykernel package.\n",
      "\u001b[1;31mRun the following command to install 'ipykernel' into the Python environment. \n",
      "\u001b[1;31mCommand: 'conda install -n ada ipykernel --update-deps --force-reinstall'"
     ]
    }
   ],
   "source": [
    "import pandas as pd\n",
    "import numpy as np\n",
    "import matplotlib.pyplot as plt\n",
    "import seaborn as sns\n",
    "import ast\n",
    "\n",
    "# from pandas_profiling import ProfileReport\n",
    "%matplotlib inline\n",
    "\n",
    "from data_wrangling_tools import *"
   ]
  },
  {
   "cell_type": "markdown",
   "metadata": {},
   "source": [
    "# Characters"
   ]
  },
  {
   "cell_type": "code",
   "execution_count": null,
   "metadata": {},
   "outputs": [],
   "source": [
    "# load characters\n",
    "characters = load_characters(CHARACTERS_FILE)\n",
    "print(characters.shape)\n",
    "characters.head()"
   ]
  },
  {
   "cell_type": "code",
   "execution_count": null,
   "metadata": {},
   "outputs": [],
   "source": [
    "# generate profiling report\n",
    "# profile_characters = ProfileReport(characters, title='Characters report')\n",
    "# profile_characters.to_file(REPORT_FOLDER + \"character_report_0.html\")"
   ]
  },
  {
   "cell_type": "markdown",
   "metadata": {},
   "source": [
    "# Ethnicities"
   ]
  },
  {
   "cell_type": "code",
   "execution_count": null,
   "metadata": {},
   "outputs": [],
   "source": [
    "# load ethnicities\n",
    "# lines with more than 1 value (to run the script, only the first value has been kept)): \n",
    "# /m/03ttfc\tSpaniards\t4\t1\n",
    "# /m/04y8_bm\tMultiracial American\t2\t3\t4\t5\n",
    "# /m/017sq0\tEurasian\t3\t1\n",
    "# /m/04zjjt\thistory of the Jews in India\t1\t3\n",
    "# /m/027vy0s\tWhite Latin American\t1\t4\n",
    "# /m/01kb9y\tmultiracial people\t2\t3\t4\t5\n",
    "# /m/04fh1b\tBlasians\t2\t3\n",
    "# /m/03hjx6f\tBlack Hispanic and Latino Americans\t2\t3\n",
    "\n",
    "# clusters:\n",
    "ethnicity_clusters = {1: 'White', 2: 'Black', 3: 'Asian', 4: 'Latino', 5: 'Native / Indigenous people'}\n",
    "\n",
    "ethnicities = load_ethnicities(ETHNICITY_FILE, ethnicity_clusters)\n",
    "ethnicities.head()"
   ]
  },
  {
   "cell_type": "code",
   "execution_count": null,
   "metadata": {},
   "outputs": [],
   "source": [
    "# add characters ethnicities\n",
    "characters = add_characters_ethnicities(characters, ethnicities)\n",
    "characters.head()"
   ]
  },
  {
   "cell_type": "markdown",
   "metadata": {},
   "source": [
    "# Movies"
   ]
  },
  {
   "cell_type": "code",
   "execution_count": null,
   "metadata": {},
   "outputs": [],
   "source": [
    "# load movies\n",
    "movies = load_movies(MOVIES_FILE)\n",
    "\n",
    "# clean features    \n",
    "movies = clean_unknowns(movies)\n",
    "movies = clean_jsons(movies)\n",
    "\n",
    "print(movies.shape)\n",
    "movies.head()"
   ]
  },
  {
   "cell_type": "code",
   "execution_count": null,
   "metadata": {},
   "outputs": [],
   "source": [
    "# generate profiling report\n",
    "# profile_movies = ProfileReport(movies, title='Movies report')\n",
    "# profile_movies.to_file(REPORT_FOLDER + \"movies_report_0.html\")"
   ]
  },
  {
   "cell_type": "code",
   "execution_count": null,
   "metadata": {},
   "outputs": [],
   "source": [
    "# number of nan box office values\n",
    "nb_nan_movies = movies['box_office_revenue'].isna().sum()\n",
    "print('Number of known box office values: {} ({:.2%})'.format(movies.shape[0] - nb_nan_movies, (movies.shape[0] - nb_nan_movies) / movies.shape[0]))\n",
    "print('Number of nan box office values: {} ({:.2%})'.format(nb_nan_movies, nb_nan_movies / movies.shape[0]))"
   ]
  },
  {
   "cell_type": "markdown",
   "metadata": {},
   "source": [
    "# kaggle movies"
   ]
  },
  {
   "cell_type": "code",
   "execution_count": null,
   "metadata": {},
   "outputs": [],
   "source": [
    "# import kaggle dataset\n",
    "def load_kaggle(KAGGLE_file, columns=['original_title', 'revenue', 'budget', 'vote_average', 'vote_count', 'release_date']):\n",
    "    #kaggle = pd.read_csv(KAGGLE_file, usecols=columns)\n",
    "    kaggle = pd.read_csv(KAGGLE_file, usecols=columns)\n",
    "\n",
    "    # remove wrongly formatted rows (only 3)\n",
    "    kaggle = kaggle.drop(kaggle[kaggle['budget'].str.contains('.jpg')].index)\n",
    "    kaggle['release_date'] = pd.to_datetime(kaggle['release_date'], format='%Y-%m-%d', errors='coerce')\n",
    "\n",
    "    # convert numerical columns to float\n",
    "    kaggle['revenue'] = kaggle['revenue'].astype(float).apply(lambda x: np.nan if x == 0.0 else x)\n",
    "    kaggle['budget'] = kaggle['budget'].astype(float).apply(lambda x: np.nan if x == 0.0 else x)\n",
    "\n",
    "    return kaggle\n",
    "\n",
    "kaggle = load_kaggle(KAGGLE_FILE)\n",
    "print(kaggle.shape)\n",
    "kaggle.head()"
   ]
  },
  {
   "cell_type": "markdown",
   "metadata": {},
   "source": [
    "# Check whether the kaggle dataset can be trusted\n",
    "(i.e. contains box office values that we can trust that are the same as the ones in the movies dataset)"
   ]
  },
  {
   "cell_type": "code",
   "execution_count": null,
   "metadata": {},
   "outputs": [],
   "source": [
    "df_trust = pd.merge(movies, kaggle, left_on=[movies['name'], movies['release_date'].dt.year], \n",
    "                    right_on=[kaggle['original_title'], kaggle['release_date'].dt.year], how='left')\n",
    "df_trust = df_trust.rename({'release_date_x': 'release_date', 'revenue':'box_office_revenue_kaggle'}, axis=1)\n",
    "df_trust = df_trust.drop(columns=['original_title', 'key_0', 'key_1', 'release_date_y'])\n",
    "\n",
    "# select only the rows where the box office revenue is known\n",
    "df_trust = df_trust[(df_trust['box_office_revenue'].notna()) & (df_trust['box_office_revenue_kaggle'].notna())]\n",
    "\n",
    "df_trust['box_office_revenue'] = df_trust['box_office_revenue'].astype(float)\n",
    "df_trust['box_office_revenue_kaggle'] = df_trust['box_office_revenue'].astype(float)\n",
    "\n",
    "# compare all values\n",
    "is_same = np.allclose(df_trust['box_office_revenue'].to_numpy(), df_trust['box_office_revenue_kaggle'].to_numpy())\n",
    "\n",
    "print(\"Are the values from Kaggle and the values from the movies dataset are the same? {}\".format(is_same))\n",
    "\n",
    "    "
   ]
  },
  {
   "cell_type": "markdown",
   "metadata": {},
   "source": [
    "# Merge kaggle movies and movies"
   ]
  },
  {
   "cell_type": "code",
   "execution_count": null,
   "metadata": {},
   "outputs": [],
   "source": [
    "# merge movies and kaggle movies\n",
    "\n",
    "def merge_movies_kaggle(movies, kaggle):\n",
    "\n",
    "    df = pd.merge(movies, kaggle, left_on=[movies['name'], movies['release_date'].dt.year], \n",
    "        right_on=[kaggle['original_title'], kaggle['release_date'].dt.year], how='left')\n",
    "    df = df.rename({'release_date_x': 'release_date'}, axis=1)\n",
    "\n",
    "    # fill the box_office revenue with the kaggle revenue if it's missing\n",
    "    df['box_office_revenue'] = df['box_office_revenue'].fillna(df['revenue'].copy())\n",
    "    df = df.drop(columns=['revenue', 'original_title', 'key_0', 'key_1', 'release_date_y'])\n",
    "    \n",
    "    return df\n",
    "\n",
    "merged_movies = merge_movies_kaggle(movies, kaggle)\n",
    "\n",
    "print(merged_movies.shape)\n",
    "merged_movies.head()"
   ]
  },
  {
   "cell_type": "code",
   "execution_count": null,
   "metadata": {},
   "outputs": [],
   "source": [
    "# number of nan box office values\n",
    "nb_nan_merged_movies = merged_movies['box_office_revenue'].isna().sum()\n",
    "print('Number of known box office values: {} ({:.2%})'.format(merged_movies.shape[0] - nb_nan_merged_movies, (merged_movies.shape[0] - nb_nan_merged_movies) / merged_movies.shape[0]))\n",
    "print('Number of nan box office values: {} ({:.2%})'.format(nb_nan_movies, nb_nan_movies / movies.shape[0]))\n",
    "\n",
    "nb_non_nan_movies = movies.shape[0] - nb_nan_movies\n",
    "nb_non_nan_merged_movies = merged_movies.shape[0] - nb_nan_merged_movies\n",
    "print('Number of box office values gained with kaggle: {} ({:.2%})'.format(nb_non_nan_merged_movies - nb_non_nan_movies, (nb_non_nan_merged_movies - nb_non_nan_movies) / nb_non_nan_movies))"
   ]
  },
  {
   "cell_type": "markdown",
   "metadata": {},
   "source": [
    "# Merge characters and movies"
   ]
  },
  {
   "cell_type": "code",
   "execution_count": null,
   "metadata": {},
   "outputs": [],
   "source": [
    "# merge characters and movies\n",
    "df = merge_characters_movies(characters, merged_movies)\n",
    "df.head()"
   ]
  },
  {
   "cell_type": "code",
   "execution_count": null,
   "metadata": {},
   "outputs": [],
   "source": [
    "# generate clean df\n",
    "df1 = generate_clean_df_with_kaggle(CHARACTERS_FILE, ETHNICITY_FILE, MOVIES_FILE, KAGGLE_FILE)\n",
    "\n",
    "assert(df.equals(df1))\n",
    "df1.head()"
   ]
  }
 ],
 "metadata": {
  "kernelspec": {
   "display_name": "ada",
   "language": "python",
   "name": "python3"
  },
  "language_info": {
   "codemirror_mode": {
    "name": "ipython",
    "version": 3
   },
   "file_extension": ".py",
   "mimetype": "text/x-python",
   "name": "python",
   "nbconvert_exporter": "python",
   "pygments_lexer": "ipython3",
   "version": "3.9.13 (main, Aug 25 2022, 23:51:50) [MSC v.1916 64 bit (AMD64)]"
  },
  "orig_nbformat": 4,
  "vscode": {
   "interpreter": {
    "hash": "22572adde2579bba0219ab13a595c247a757bc643a076c81b23732705e9bf7aa"
   }
  }
 },
 "nbformat": 4,
 "nbformat_minor": 2
}
